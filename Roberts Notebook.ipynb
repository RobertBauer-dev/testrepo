{
    "cells": [
        {
            "cell_type": "markdown",
            "metadata": {
                "collapsed": true
            },
            "source": "# My Jupyter Notebook on IBM Watson Studio #"
        },
        {
            "cell_type": "markdown",
            "metadata": {},
            "source": "**Robert Bauer**<br />\n    Data Scientist"
        },
        {
            "cell_type": "markdown",
            "metadata": {},
            "source": "*I am interested in data science because one get new insights from data to make better decisions*"
        },
        {
            "cell_type": "markdown",
            "metadata": {},
            "source": "***This line below do prints a funny text message***"
        },
        {
            "cell_type": "code",
            "execution_count": 1,
            "metadata": {},
            "outputs": [
                {
                    "name": "stdout",
                    "output_type": "stream",
                    "text": "Hello jupyter notebook\n"
                }
            ],
            "source": "print(\"Hello jupyter notebook\")"
        },
        {
            "cell_type": "markdown",
            "metadata": {},
            "source": "* Task 1\\n\n* Task 2\\n\n* Task 3\\n\n1. Idea 1\\n\n2. Idea 2\\n\n> > Quoted text."
        },
        {
            "cell_type": "code",
            "execution_count": null,
            "metadata": {},
            "outputs": [],
            "source": ""
        }
    ],
    "metadata": {
        "kernelspec": {
            "display_name": "Python 3.9",
            "language": "python",
            "name": "python3"
        },
        "language_info": {
            "codemirror_mode": {
                "name": "ipython",
                "version": 3
            },
            "file_extension": ".py",
            "mimetype": "text/x-python",
            "name": "python",
            "nbconvert_exporter": "python",
            "pygments_lexer": "ipython3",
            "version": "3.9.13"
        }
    },
    "nbformat": 4,
    "nbformat_minor": 1
}